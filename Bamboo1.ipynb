{
 "cells": [
  {
   "cell_type": "code",
   "execution_count": 20,
   "metadata": {},
   "outputs": [
    {
     "data": {
      "text/plain": [
       "0"
      ]
     },
     "execution_count": 20,
     "metadata": {},
     "output_type": "execute_result"
    }
   ],
   "source": [
    "import paho.mqtt.client as mqtt\n",
    "\n",
    "client_publish = mqtt.Client(\"Python2\")\n",
    "client_publish.connect(host=\"test.mosquitto.org\", port=1883)\n",
    "client_publish.publish(\"IC.embedded/Iceberg\", \"Please work dear lord!\")\n",
    "client_publish.disconnect()\n"
   ]
  },
  {
   "cell_type": "code",
   "execution_count": 1,
   "metadata": {},
   "outputs": [],
   "source": [
    "import smbus\n",
    "import time\n",
    "import math\n",
    "\n",
    "bus = smbus.SMBus(1)\n",
    "i2c_addr_flex = 0x48 # our flex sensor slave address\n",
    "i2c_addr_compass = 0x0c # our compass sensor slave address"
   ]
  },
  {
   "cell_type": "code",
   "execution_count": 2,
   "metadata": {},
   "outputs": [],
   "source": [
    "def read_flex (i2c_addr, duration, no_of_reading):\n",
    "    #below are the 4 different kind of register in ADC1115 module\n",
    "    status_reg = 0x00\n",
    "    mode_reg = 0x01\n",
    "    dataH_reg = 0x02\n",
    "    dataL_reg = 0x03\n",
    "    \n",
    "    #this is to configure the device\n",
    "    bus.write_word_data(i2c_addr, mode_reg, 0x8384)\n",
    "\n",
    "    #this is to write to pointer register\n",
    "    bus.write_byte(i2c_addr, 0)\n",
    "\n",
    "    while(no_of_reading):\n",
    "        val_swapped = bus.read_word_data(i2c_addr, 0x00)\n",
    "        val = (val_swapped & 0xFF) <<8 | (val_swapped >>8)\n",
    "        print (\"flex reading: \", val)\n",
    "        time.sleep(duration/no_of_reading)\n",
    "        no_of_reading = no_of_reading - 1"
   ]
  },
  {
   "cell_type": "code",
   "execution_count": 3,
   "metadata": {},
   "outputs": [],
   "source": [
    "def read_compass(i2c_addr, duration, no_of_reading):\n",
    "    \n",
    "    while(no_of_reading):\n",
    "        # Select write register command, 0x60(96)\n",
    "        # AH = 0x00, AL = 0x5C, GAIN_SEL = 5, Address register (0x00 << 2)\n",
    "        config = [0x00, 0x5C, 0x00]\n",
    "        bus.write_i2c_block_data(i2c_addr, 0x60, config)\n",
    "\n",
    "        # Read data back, 1 byte, (ACK byte)\n",
    "        # Status byte\n",
    "        data = bus.read_byte(i2c_addr)\n",
    "\n",
    "        # AH = 0x02, AL = 0xB4, RES for magnetic measurement = 0, Address register (0x02 << 2)\n",
    "        config = [0x02, 0xB4, 0x08]\n",
    "        bus.write_i2c_block_data(i2c_addr, 0x60, config)\n",
    "\n",
    "        # Read data back, 1 bytem (ACK byte)\n",
    "        # Status byte\n",
    "        data = bus.read_byte(i2c_addr)\n",
    "\n",
    "        # Start single meaurement mode, X, Y, Z-Axis enabled\n",
    "        bus.write_byte(i2c_addr, 0x3E)\n",
    "\n",
    "        # Read data back, 1 byte\n",
    "        # Status byte\n",
    "        data = bus.read_byte(0x0C)\n",
    "\n",
    "        time.sleep(0.5)\n",
    "\n",
    "        # Read data back from 0x4E(78), 7 bytes\n",
    "        # Status, xMag msb, xMag lsb, yMag msb, yMag lsb, zMag msb, zMag lsb\n",
    "        data = bus.read_i2c_block_data(i2c_addr, 0x4E, 7)\n",
    "        print(data)\n",
    "\n",
    "        xMag = data[1] * 256 + data[2]\n",
    "        if xMag > 32767 :\n",
    "            xMag -= 65536\n",
    "\n",
    "        yMag = data[3] * 256 + data[4]\n",
    "        if yMag > 32767 :\n",
    "            yMag -= 65536\n",
    "\n",
    "        zMag = data[5] * 256 + data[6]\n",
    "        if zMag > 32767 :\n",
    "            zMag -= 65536\n",
    "            \n",
    "        heading = math.atan2(yMag, xMag) * 180 / math.pi\n",
    "        \n",
    "\n",
    "        # Output data to screen\n",
    "        print(\"Magnetice Field (x, y, z) = \", xMag, yMag, zMag)\n",
    "        print(heading + 330)\n",
    "        time.sleep(duration/no_of_reading)\n",
    "        no_of_reading = no_of_reading - 1\n",
    "\n",
    "        \n",
    "        #if magnetic field change too much then nearby must have ferous object\n",
    "        \n",
    "    "
   ]
  },
  {
   "cell_type": "code",
   "execution_count": 14,
   "metadata": {},
   "outputs": [
    {
     "name": "stdout",
     "output_type": "stream",
     "text": [
      "flex reading:  16906\n",
      "flex reading:  16911\n",
      "Magnetice Field (x, y, z) =  39 -33 72\n",
      "-40.23635830927382\n",
      "Magnetice Field (x, y, z) =  32 -29 69\n",
      "-42.18444331578877\n"
     ]
    }
   ],
   "source": [
    "read_flex(i2c_addr_flex, 2, 2)\n",
    "read_compass(i2c_addr_compass, 2, 2)"
   ]
  },
  {
   "cell_type": "code",
   "execution_count": 21,
   "metadata": {},
   "outputs": [
    {
     "name": "stdout",
     "output_type": "stream",
     "text": [
      "[2, 0, 22, 255, 207, 0, 64]\n",
      "Magnetice Field (x, y, z) =  22 -49 64\n",
      "-65.82089285331082\n",
      "[2, 0, 28, 255, 207, 0, 64]\n",
      "Magnetice Field (x, y, z) =  28 -49 64\n",
      "-60.25511870305779\n",
      "[2, 0, 26, 255, 212, 0, 65]\n",
      "Magnetice Field (x, y, z) =  26 -44 65\n",
      "-59.42077312751099\n",
      "[2, 0, 30, 255, 208, 0, 62]\n",
      "Magnetice Field (x, y, z) =  30 -48 62\n",
      "-57.9946167919165\n",
      "[2, 0, 27, 255, 209, 0, 63]\n",
      "Magnetice Field (x, y, z) =  27 -47 63\n",
      "-60.124007308310574\n"
     ]
    }
   ],
   "source": [
    "read_compass(i2c_addr_compass, 10, 5)"
   ]
  },
  {
   "cell_type": "code",
   "execution_count": 40,
   "metadata": {},
   "outputs": [
    {
     "name": "stdout",
     "output_type": "stream",
     "text": [
      "Done\n",
      "Here1\n",
      "Here2\n",
      "Here3\n",
      "done\n"
     ]
    }
   ],
   "source": [
    "import time\n",
    "import paho.mqtt.client as mqtt\n",
    "print(\"Done\")\n",
    "client = mqtt.Client(\"\")\n",
    "print(\"Here1\")\n",
    "client.connect(\"test.mosquitto.org\", port=1883)\n",
    "print(\"Here2\")\n",
    "client.publish(\"IC.embedded/Faraday\", \"HEY MAN\")\n",
    "print(\"Here3\")\n",
    "print(\"done\")"
   ]
  },
  {
   "cell_type": "code",
   "execution_count": 11,
   "metadata": {},
   "outputs": [
    {
     "name": "stdout",
     "output_type": "stream",
     "text": [
      "[2, 255, 207, 255, 111, 0, 46]\n",
      "Magnetice Field (x, y, z) =  -49 -145 46\n",
      "221.32829310517087\n",
      "[2, 255, 216, 255, 117, 0, 46]\n",
      "Magnetice Field (x, y, z) =  -40 -139 46\n",
      "223.94578033722425\n",
      "[2, 255, 169, 255, 191, 0, 54]\n",
      "Magnetice Field (x, y, z) =  -87 -65 54\n",
      "186.76438067579048\n",
      "[2, 255, 167, 255, 194, 0, 34]\n",
      "Magnetice Field (x, y, z) =  -89 -62 34\n",
      "184.86219614691484\n",
      "[2, 255, 166, 255, 192, 0, 33]\n",
      "Magnetice Field (x, y, z) =  -90 -64 33\n",
      "185.4170552764674\n"
     ]
    }
   ],
   "source": [
    "read_compass(i2c_addr_compass, 10, 5)"
   ]
  },
  {
   "cell_type": "code",
   "execution_count": 12,
   "metadata": {},
   "outputs": [
    {
     "name": "stdout",
     "output_type": "stream",
     "text": [
      "[2, 255, 218, 255, 111, 0, 50]\n",
      "Magnetice Field (x, y, z) =  -38 -145 50\n",
      "225.3148029628785\n",
      "[2, 255, 212, 255, 111, 0, 53]\n",
      "Magnetice Field (x, y, z) =  -44 -145 53\n",
      "223.11966983447616\n",
      "[2, 255, 250, 255, 118, 0, 81]\n",
      "Magnetice Field (x, y, z) =  -6 -138 81\n",
      "237.51044707800085\n",
      "[2, 0, 10, 255, 156, 0, 99]\n",
      "Magnetice Field (x, y, z) =  10 -100 99\n",
      "245.71059313749964\n",
      "[2, 255, 223, 255, 105, 0, 42]\n",
      "Magnetice Field (x, y, z) =  -33 -151 42\n",
      "227.6722292886831\n"
     ]
    }
   ],
   "source": [
    "read_compass(i2c_addr_compass, 10, 5)"
   ]
  },
  {
   "cell_type": "code",
   "execution_count": null,
   "metadata": {},
   "outputs": [],
   "source": []
  }
 ],
 "metadata": {
  "kernelspec": {
   "display_name": "Python 3",
   "language": "python",
   "name": "python3"
  },
  "language_info": {
   "codemirror_mode": {
    "name": "ipython",
    "version": 3
   },
   "file_extension": ".py",
   "mimetype": "text/x-python",
   "name": "python",
   "nbconvert_exporter": "python",
   "pygments_lexer": "ipython3",
   "version": "3.7.3"
  }
 },
 "nbformat": 4,
 "nbformat_minor": 4
}
