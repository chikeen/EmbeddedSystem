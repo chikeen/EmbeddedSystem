{
 "cells": [
  {
   "cell_type": "code",
   "execution_count": 20,
   "metadata": {},
   "outputs": [
    {
     "data": {
      "text/plain": [
       "0"
      ]
     },
     "execution_count": 20,
     "metadata": {},
     "output_type": "execute_result"
    }
   ],
   "source": [
    "import paho.mqtt.client as mqtt\n",
    "\n",
    "client_publish = mqtt.Client(\"Python2\")\n",
    "client_publish.connect(host=\"test.mosquitto.org\", port=1883)\n",
    "client_publish.publish(\"IC.embedded/Iceberg\", \"Please work dear lord!\")\n",
    "client_publish.disconnect()\n"
   ]
  },
  {
   "cell_type": "code",
   "execution_count": 2,
   "metadata": {},
   "outputs": [],
   "source": [
    "import smbus\n",
    "import time\n",
    "\n",
    "bus = smbus.SMBus(1)\n",
    "i2c_addr_flex = 0x48 # our flex sensor slave address\n",
    "i2c_addr_compass = 0x0c # our compass sensor slave address"
   ]
  },
  {
   "cell_type": "code",
   "execution_count": 47,
   "metadata": {},
   "outputs": [],
   "source": [
    "def read_flex (i2c_addr, duration, no_of_reading):\n",
    "    #below are the 4 different kind of register in ADC1115 module\n",
    "    status_reg = 0x00\n",
    "    mode_reg = 0x01\n",
    "    dataH_reg = 0x02\n",
    "    dataL_reg = 0x03\n",
    "    \n",
    "    #this is to configure the device\n",
    "    bus.write_word_data(i2c_addr, mode_reg, 0x8384)\n",
    "\n",
    "    #this is to write to pointer register\n",
    "    bus.write_byte(i2c_addr, 0)\n",
    "\n",
    "    while(no_of_reading):\n",
    "        val_swapped = bus.read_word_data(i2c_addr, 0x00)\n",
    "        val = (val_swapped & 0xFF) <<8 | (val_swapped >>8)\n",
    "        print (\"flex reading: \", val)\n",
    "        time.sleep(duration/no_of_reading)\n",
    "        no_of_reading = no_of_reading - 1"
   ]
  },
  {
   "cell_type": "code",
   "execution_count": 27,
   "metadata": {},
   "outputs": [],
   "source": [
    "def read_compass(i2c_addr, duration, no_of_reading):\n",
    "    \n",
    "    while(no_of_reading):\n",
    "        # Select write register command, 0x60(96)\n",
    "        # AH = 0x00, AL = 0x5C, GAIN_SEL = 5, Address register (0x00 << 2)\n",
    "        config = [0x00, 0x5C, 0x00]\n",
    "        bus.write_i2c_block_data(i2c_addr, 0x60, config)\n",
    "\n",
    "        # Read data back, 1 byte, (ACK byte)\n",
    "        # Status byte\n",
    "        data = bus.read_byte(i2c_addr)\n",
    "\n",
    "        # AH = 0x02, AL = 0xB4, RES for magnetic measurement = 0, Address register (0x02 << 2)\n",
    "        config = [0x02, 0xB4, 0x08]\n",
    "        bus.write_i2c_block_data(i2c_addr, 0x60, config)\n",
    "\n",
    "        # Read data back, 1 bytem (ACK byte)\n",
    "        # Status byte\n",
    "        data = bus.read_byte(i2c_addr)\n",
    "\n",
    "        # Start single meaurement mode, X, Y, Z-Axis enabled\n",
    "        bus.write_byte(i2c_addr, 0x3E)\n",
    "\n",
    "        # Read data back, 1 byte\n",
    "        # Status byte\n",
    "        data = bus.read_byte(0x0C)\n",
    "\n",
    "        time.sleep(0.5)\n",
    "\n",
    "        # Read data back from 0x4E(78), 7 bytes\n",
    "        # Status, xMag msb, xMag lsb, yMag msb, yMag lsb, zMag msb, zMag lsb\n",
    "        data = bus.read_i2c_block_data(0x0C, 0x4E, 7)\n",
    "#         print(data)\n",
    "\n",
    "        xMag = data[1] * 256 + data[2]\n",
    "        if xMag > 32767 :\n",
    "            xMag -= 65536\n",
    "\n",
    "        yMag = data[3] * 256 + data[4]\n",
    "        if yMag > 32767 :\n",
    "            yMag -= 65536\n",
    "\n",
    "        zMag = data[5] * 256 + data[6]\n",
    "        if zMag > 32767 :\n",
    "            zMag -= 65536\n",
    "\n",
    "        # Output data to screen\n",
    "        print(\"Magnetice Field (x, y, z) = \", xMag, yMag, zMag)\n",
    "        time.sleep(duration/no_of_reading)\n",
    "        no_of_reading = no_of_reading - 1\n",
    "\n",
    "        \n",
    "        #if magnetic field change too much then nearby must have ferous object\n",
    "        \n",
    "    "
   ]
  },
  {
   "cell_type": "code",
   "execution_count": 53,
   "metadata": {},
   "outputs": [
    {
     "name": "stdout",
     "output_type": "stream",
     "text": [
      "flex reading:  8138\n",
      "flex reading:  8784\n",
      "flex reading:  8752\n",
      "flex reading:  9212\n",
      "flex reading:  10443\n",
      "flex reading:  11707\n",
      "flex reading:  12923\n",
      "flex reading:  9989\n",
      "flex reading:  8387\n",
      "flex reading:  8932\n",
      "flex reading:  11904\n",
      "flex reading:  12919\n",
      "flex reading:  13470\n",
      "flex reading:  9688\n",
      "flex reading:  8307\n",
      "flex reading:  8615\n",
      "flex reading:  13247\n",
      "flex reading:  9804\n",
      "flex reading:  9895\n",
      "flex reading:  9085\n"
     ]
    }
   ],
   "source": [
    "read_flex(i2c_addr_flex, 10, 20)\n",
    "# read_compass(i2c_addr_compass, 2, 2)"
   ]
  },
  {
   "cell_type": "code",
   "execution_count": 52,
   "metadata": {},
   "outputs": [
    {
     "name": "stdout",
     "output_type": "stream",
     "text": [
      "Magnetice Field (x, y, z) =  -2 -107 22\n",
      "Magnetice Field (x, y, z) =  -3 -108 19\n",
      "Magnetice Field (x, y, z) =  -2 -104 21\n",
      "Magnetice Field (x, y, z) =  3 -104 14\n"
     ]
    },
    {
     "ename": "KeyboardInterrupt",
     "evalue": "",
     "output_type": "error",
     "traceback": [
      "\u001b[0;31m---------------------------------------------------------------------------\u001b[0m",
      "\u001b[0;31mKeyboardInterrupt\u001b[0m                         Traceback (most recent call last)",
      "\u001b[0;32m<ipython-input-52-74e1859e26e2>\u001b[0m in \u001b[0;36m<module>\u001b[0;34m\u001b[0m\n\u001b[0;32m----> 1\u001b[0;31m \u001b[0mread_compass\u001b[0m\u001b[0;34m(\u001b[0m\u001b[0mi2c_addr_compass\u001b[0m\u001b[0;34m,\u001b[0m \u001b[0;36m5\u001b[0m\u001b[0;34m,\u001b[0m \u001b[0;36m5\u001b[0m\u001b[0;34m)\u001b[0m\u001b[0;34m\u001b[0m\u001b[0;34m\u001b[0m\u001b[0m\n\u001b[0m",
      "\u001b[0;32m<ipython-input-27-5d768883958f>\u001b[0m in \u001b[0;36mread_compass\u001b[0;34m(i2c_addr, duration, no_of_reading)\u001b[0m\n\u001b[1;32m     47\u001b[0m         \u001b[0;31m# Output data to screen\u001b[0m\u001b[0;34m\u001b[0m\u001b[0;34m\u001b[0m\u001b[0;34m\u001b[0m\u001b[0m\n\u001b[1;32m     48\u001b[0m         \u001b[0mprint\u001b[0m\u001b[0;34m(\u001b[0m\u001b[0;34m\"Magnetice Field (x, y, z) = \"\u001b[0m\u001b[0;34m,\u001b[0m \u001b[0mxMag\u001b[0m\u001b[0;34m,\u001b[0m \u001b[0myMag\u001b[0m\u001b[0;34m,\u001b[0m \u001b[0mzMag\u001b[0m\u001b[0;34m)\u001b[0m\u001b[0;34m\u001b[0m\u001b[0;34m\u001b[0m\u001b[0m\n\u001b[0;32m---> 49\u001b[0;31m         \u001b[0mtime\u001b[0m\u001b[0;34m.\u001b[0m\u001b[0msleep\u001b[0m\u001b[0;34m(\u001b[0m\u001b[0mduration\u001b[0m\u001b[0;34m/\u001b[0m\u001b[0mno_of_reading\u001b[0m\u001b[0;34m)\u001b[0m\u001b[0;34m\u001b[0m\u001b[0;34m\u001b[0m\u001b[0m\n\u001b[0m\u001b[1;32m     50\u001b[0m         \u001b[0mno_of_reading\u001b[0m \u001b[0;34m=\u001b[0m \u001b[0mno_of_reading\u001b[0m \u001b[0;34m-\u001b[0m \u001b[0;36m1\u001b[0m\u001b[0;34m\u001b[0m\u001b[0;34m\u001b[0m\u001b[0m\n\u001b[1;32m     51\u001b[0m \u001b[0;34m\u001b[0m\u001b[0m\n",
      "\u001b[0;31mKeyboardInterrupt\u001b[0m: "
     ]
    }
   ],
   "source": [
    "read_compass(i2c_addr_compass, 5, 5)"
   ]
  },
  {
   "cell_type": "code",
   "execution_count": 40,
   "metadata": {},
   "outputs": [
    {
     "name": "stdout",
     "output_type": "stream",
     "text": [
      "Done\n",
      "Here1\n",
      "Here2\n",
      "Here3\n",
      "done\n"
     ]
    }
   ],
   "source": [
    "import time\n",
    "import paho.mqtt.client as mqtt\n",
    "print(\"Done\")\n",
    "client = mqtt.Client(\"\")\n",
    "print(\"Here1\")\n",
    "client.connect(\"test.mosquitto.org\", port=1883)\n",
    "print(\"Here2\")\n",
    "client.publish(\"IC.embedded/Faraday\", \"HEY MAN\")\n",
    "print(\"Here3\")\n",
    "print(\"done\")"
   ]
  },
  {
   "cell_type": "code",
   "execution_count": null,
   "metadata": {},
   "outputs": [],
   "source": []
  }
 ],
 "metadata": {
  "kernelspec": {
   "display_name": "Python 3",
   "language": "python",
   "name": "python3"
  },
  "language_info": {
   "codemirror_mode": {
    "name": "ipython",
    "version": 3
   },
   "file_extension": ".py",
   "mimetype": "text/x-python",
   "name": "python",
   "nbconvert_exporter": "python",
   "pygments_lexer": "ipython3",
   "version": "3.7.3"
  }
 },
 "nbformat": 4,
 "nbformat_minor": 4
}
