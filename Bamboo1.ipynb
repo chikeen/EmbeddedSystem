{
 "cells": [
  {
   "cell_type": "code",
   "execution_count": 20,
   "metadata": {},
   "outputs": [
    {
     "data": {
      "text/plain": [
       "0"
      ]
     },
     "execution_count": 20,
     "metadata": {},
     "output_type": "execute_result"
    }
   ],
   "source": [
    "import paho.mqtt.client as mqtt\n",
    "\n",
    "client_publish = mqtt.Client(\"Python2\")\n",
    "client_publish.connect(host=\"test.mosquitto.org\", port=1883)\n",
    "client_publish.publish(\"IC.embedded/Iceberg\", \"Please work dear lord!\")\n",
    "client_publish.disconnect()\n"
   ]
  },
  {
   "cell_type": "code",
   "execution_count": 72,
   "metadata": {},
   "outputs": [],
   "source": [
    "import smbus\n",
    "import time\n",
    "\n",
    "bus = smbus.SMBus(1)"
   ]
  },
  {
   "cell_type": "code",
   "execution_count": 51,
   "metadata": {},
   "outputs": [],
   "source": [
    "i2c_addr = 0x48 #our slave address\n",
    "\n",
    "#below are the 4 different kind of register in ADC1115 module\n",
    "status_reg = 0x00\n",
    "mode_reg = 0x01\n",
    "dataH_reg = 0x02\n",
    "dataL_reg = 0x03"
   ]
  },
  {
   "cell_type": "code",
   "execution_count": 54,
   "metadata": {},
   "outputs": [],
   "source": [
    "#this is to configure the device\n",
    "bus.write_word_data(i2c_addr, mode_reg, 0x8384)\n",
    "\n",
    "#this is to write to pointer register\n",
    "bus.write_byte(i2c_addr, 0)"
   ]
  },
  {
   "cell_type": "code",
   "execution_count": 73,
   "metadata": {},
   "outputs": [
    {
     "name": "stdout",
     "output_type": "stream",
     "text": [
      "879\n",
      "880\n",
      "880\n",
      "880\n",
      "881\n",
      "1550\n",
      "22238\n",
      "21882\n",
      "21457\n",
      "20788\n",
      "20685\n",
      "20482\n",
      "20536\n",
      "20672\n",
      "22263\n",
      "11857\n",
      "1617\n",
      "1956\n",
      "891\n",
      "884\n",
      "884\n",
      "881\n",
      "880\n",
      "879\n",
      "880\n",
      "880\n",
      "880\n",
      "880\n",
      "880\n",
      "881\n",
      "907\n",
      "1187\n",
      "3074\n",
      "9665\n",
      "18711\n",
      "21767\n",
      "21143\n",
      "21319\n",
      "21077\n",
      "20359\n",
      "20274\n",
      "19775\n",
      "19392\n",
      "19534\n",
      "19392\n",
      "21513\n",
      "13379\n",
      "952\n",
      "895\n",
      "892\n",
      "892\n",
      "889\n",
      "892\n",
      "887\n",
      "886\n",
      "878\n",
      "880\n",
      "880\n",
      "880\n",
      "880\n",
      "880\n",
      "880\n",
      "880\n",
      "880\n",
      "880\n",
      "880\n",
      "881\n",
      "880\n",
      "882\n",
      "880\n",
      "883\n",
      "883\n",
      "885\n",
      "888\n",
      "892\n",
      "1131\n",
      "1260\n",
      "1556\n",
      "2496\n",
      "3460\n",
      "3613\n",
      "1231\n",
      "930\n",
      "9542\n",
      "16338\n",
      "11646\n",
      "18605\n",
      "11408\n",
      "16839\n",
      "17439\n",
      "19822\n",
      "18829\n",
      "18896\n",
      "19463\n",
      "20811\n",
      "20444\n",
      "19544\n",
      "18319\n",
      "19857\n",
      "20107\n",
      "19915\n",
      "20023\n",
      "19335\n",
      "15268\n",
      "19094\n",
      "19460\n",
      "884\n",
      "881\n",
      "880\n",
      "879\n",
      "880\n",
      "880\n",
      "879\n",
      "880\n"
     ]
    },
    {
     "ename": "KeyboardInterrupt",
     "evalue": "",
     "output_type": "error",
     "traceback": [
      "\u001b[0;31m---------------------------------------------------------------------------\u001b[0m",
      "\u001b[0;31mKeyboardInterrupt\u001b[0m                         Traceback (most recent call last)",
      "\u001b[0;32m<ipython-input-73-42283ee93835>\u001b[0m in \u001b[0;36m<module>\u001b[0;34m\u001b[0m\n\u001b[1;32m      6\u001b[0m     \u001b[0mval\u001b[0m \u001b[0;34m=\u001b[0m \u001b[0;34m(\u001b[0m\u001b[0mval_swapped\u001b[0m \u001b[0;34m&\u001b[0m \u001b[0;36m0xFF\u001b[0m\u001b[0;34m)\u001b[0m \u001b[0;34m<<\u001b[0m\u001b[0;36m8\u001b[0m \u001b[0;34m|\u001b[0m \u001b[0;34m(\u001b[0m\u001b[0mval_swapped\u001b[0m \u001b[0;34m>>\u001b[0m\u001b[0;36m8\u001b[0m\u001b[0;34m)\u001b[0m\u001b[0;34m\u001b[0m\u001b[0;34m\u001b[0m\u001b[0m\n\u001b[1;32m      7\u001b[0m     \u001b[0mprint\u001b[0m \u001b[0;34m(\u001b[0m\u001b[0mval\u001b[0m\u001b[0;34m)\u001b[0m\u001b[0;34m\u001b[0m\u001b[0;34m\u001b[0m\u001b[0m\n\u001b[0;32m----> 8\u001b[0;31m     \u001b[0mtime\u001b[0m\u001b[0;34m.\u001b[0m\u001b[0msleep\u001b[0m\u001b[0;34m(\u001b[0m\u001b[0;36m0.5\u001b[0m\u001b[0;34m)\u001b[0m\u001b[0;34m\u001b[0m\u001b[0;34m\u001b[0m\u001b[0m\n\u001b[0m",
      "\u001b[0;31mKeyboardInterrupt\u001b[0m: "
     ]
    }
   ],
   "source": [
    "#this is to continuously read the conversion register \n",
    "#(RMB ADC1115 is a ADC module: so the reading here is the voltage)\n",
    "\n",
    "while(True):\n",
    "    val_swapped = bus.read_word_data(i2c_addr, 0x00)\n",
    "    val = (val_swapped & 0xFF) <<8 | (val_swapped >>8)\n",
    "    print (val)\n",
    "    time.sleep(0.5)"
   ]
  },
  {
   "cell_type": "code",
   "execution_count": null,
   "metadata": {},
   "outputs": [],
   "source": []
  },
  {
   "cell_type": "code",
   "execution_count": null,
   "metadata": {},
   "outputs": [],
   "source": []
  }
 ],
 "metadata": {
  "kernelspec": {
   "display_name": "Python 3",
   "language": "python",
   "name": "python3"
  },
  "language_info": {
   "codemirror_mode": {
    "name": "ipython",
    "version": 3
   },
   "file_extension": ".py",
   "mimetype": "text/x-python",
   "name": "python",
   "nbconvert_exporter": "python",
   "pygments_lexer": "ipython3",
   "version": "3.7.3"
  }
 },
 "nbformat": 4,
 "nbformat_minor": 4
}
