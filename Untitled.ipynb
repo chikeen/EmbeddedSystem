{
 "cells": [
  {
   "cell_type": "code",
   "execution_count": null,
   "metadata": {},
   "outputs": [
    {
     "name": "stdout",
     "output_type": "stream",
     "text": [
      "0\n",
      "8768\n",
      "8792\n",
      "8740\n",
      "8839\n",
      "8852\n",
      "8843\n",
      "8197\n",
      "8048\n",
      "8000\n",
      "7983\n",
      "8540\n",
      "8919\n",
      "9011\n",
      "12174\n",
      "11665\n",
      "11712\n",
      "12538\n",
      "13182\n",
      "13803\n",
      "13693\n",
      "13932\n",
      "14049\n",
      "14074\n",
      "14498\n",
      "14795\n",
      "15407\n",
      "12916\n",
      "13827\n",
      "13911\n",
      "14027\n",
      "13799\n",
      "13655\n",
      "13525\n",
      "12923\n",
      "12924\n",
      "13004\n",
      "15353\n",
      "15779\n",
      "15767\n",
      "9083\n",
      "9089\n",
      "9110\n",
      "9088\n",
      "9089\n"
     ]
    }
   ],
   "source": [
    "import smbus\n",
    "import time\n",
    "\n",
    "bus = smbus.SMBus(1)\n",
    "i2c_addr = 0x48 #our slave address\n",
    "\n",
    "#below are the 4 different kind of register in ADC1115 module\n",
    "status_reg = 0x00\n",
    "mode_reg = 0x01\n",
    "dataH_reg = 0x02\n",
    "dataL_reg = 0x03\n",
    "#this is to configure the device\n",
    "bus.write_word_data(i2c_addr, mode_reg, 0x8384)\n",
    "\n",
    "#this is to write to pointer register\n",
    "bus.write_byte(i2c_addr, 0)\n",
    "\n",
    "#this is to continuously read the conversion register \n",
    "#(RMB ADC1115 is a ADC module: so the reading here is the voltage)\n",
    "\n",
    "while(True):\n",
    "    val_swapped = bus.read_word_data(i2c_addr, 0x00)\n",
    "    val = (val_swapped & 0xFF) <<8 | (val_swapped >>8)\n",
    "    print (val)\n",
    "    time.sleep(0.5)"
   ]
  },
  {
   "cell_type": "code",
   "execution_count": null,
   "metadata": {},
   "outputs": [],
   "source": [
    "print(\"what the fuck\")"
   ]
  },
  {
   "cell_type": "code",
   "execution_count": null,
   "metadata": {},
   "outputs": [],
   "source": []
  },
  {
   "cell_type": "code",
   "execution_count": null,
   "metadata": {},
   "outputs": [],
   "source": []
  },
  {
   "cell_type": "code",
   "execution_count": null,
   "metadata": {},
   "outputs": [],
   "source": []
  },
  {
   "cell_type": "code",
   "execution_count": null,
   "metadata": {},
   "outputs": [],
   "source": []
  }
 ],
 "metadata": {
  "kernelspec": {
   "display_name": "Python 3",
   "language": "python",
   "name": "python3"
  }
 },
 "nbformat": 4,
 "nbformat_minor": 4
}
